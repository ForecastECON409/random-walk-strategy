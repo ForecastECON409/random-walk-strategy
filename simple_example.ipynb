{
 "cells": [
  {
   "cell_type": "markdown",
   "id": "7e6c32d1",
   "metadata": {},
   "source": [
    "# Intro\n",
    "\n",
    "Here's a simple example where we produce a set of plots, called a tear sheet, for a single stock."
   ]
  },
  {
   "cell_type": "markdown",
   "id": "4b98538a",
   "metadata": {},
   "source": [
    "## Imports and Settings"
   ]
  },
  {
   "cell_type": "code",
   "execution_count": null,
   "id": "9650ca02",
   "metadata": {},
   "outputs": [],
   "source": [
    "# silence warnings\n",
    "import warnings\n",
    "warnings.filterwarnings('ignore')"
   ]
  },
  {
   "cell_type": "code",
   "execution_count": null,
   "id": "6b89f41b",
   "metadata": {
    "lines_to_next_cell": 0
   },
   "outputs": [],
   "source": [
    "import yfinance as yf\n",
    "import pyfolio as pf\n",
    "import pandas as pd\n",
    "import os\n",
    "import numpy as np"
   ]
  },
  {
   "cell_type": "code",
   "execution_count": null,
   "id": "e35937af",
   "metadata": {
    "lines_to_next_cell": 0
   },
   "outputs": [],
   "source": [
    "data_path = os.path.join('data', 'GBPUSD.csv')"
   ]
  },
  {
   "cell_type": "code",
   "execution_count": null,
   "id": "c0ec757c",
   "metadata": {
    "lines_to_next_cell": 0
   },
   "outputs": [],
   "source": [
    "#s = yf.download(\n",
    "    #tickers='GBPUSD=X',\n",
    "    #start='2003-11-01'\n",
    "#)\n",
    "#s.to_csv(\n",
    "    #os.path.join(\n",
    "        #'data',\n",
    "        #'GBPUSD.csv'\n",
    "    #),\n",
    "    #index=True\n",
    "#)\n",
    "s = pd.read_csv(data_path, index_col=0, parse_dates=True)\n",
    "s.index = s.index.tz_localize('utc')"
   ]
  },
  {
   "cell_type": "code",
   "execution_count": null,
   "id": "b0c8e977",
   "metadata": {
    "lines_to_next_cell": 0
   },
   "outputs": [],
   "source": [
    "s_returns = s.Close.pct_change()"
   ]
  },
  {
   "cell_type": "code",
   "execution_count": null,
   "id": "c3114e0e",
   "metadata": {
    "lines_to_next_cell": 0
   },
   "outputs": [],
   "source": [
    "rw_returns = (\n",
    "    s_returns.shift(1)\n",
    "    .pipe(np.sign)\n",
    "    .pipe(lambda x: x * s_returns)\n",
    "    .dropna()\n",
    ")"
   ]
  },
  {
   "cell_type": "code",
   "execution_count": null,
   "id": "455bc4b8",
   "metadata": {},
   "outputs": [],
   "source": [
    "pf.create_returns_tear_sheet(rw_returns)"
   ]
  }
 ],
 "metadata": {
  "jupytext": {
   "cell_metadata_filter": "-all",
   "formats": "py:percent,ipynb",
   "main_language": "python"
  }
 },
 "nbformat": 4,
 "nbformat_minor": 5
}
